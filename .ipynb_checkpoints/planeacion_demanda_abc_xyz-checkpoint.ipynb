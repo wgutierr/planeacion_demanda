{
 "cells": [
  {
   "cell_type": "code",
   "execution_count": null,
   "id": "38122598-dbed-4824-8661-55e5c5a7c715",
   "metadata": {},
   "outputs": [],
   "source": [
    "import pandas as pd\n",
    "import numpy as np\n",
    "import matplotlib.pyplot as plt"
   ]
  },
  {
   "cell_type": "markdown",
   "id": "247354bc-9648-4c8c-9d85-22ed75ea60dd",
   "metadata": {},
   "source": [
    "## 1. Introducción a Python"
   ]
  },
  {
   "cell_type": "markdown",
   "id": "e96e4fbc-37cb-4cd7-8850-503d3602744c",
   "metadata": {},
   "source": [
    "### 1.1 Tipos de Datos en Python"
   ]
  },
  {
   "cell_type": "markdown",
   "id": "0c04f492-f4f2-48d9-9f44-ecd88ea78333",
   "metadata": {},
   "source": [
    "<small>\n",
    "    \n",
    "- **Entero (`int`)**:\n",
    "  Representa números enteros, positivos o negativos, sin decimales.\n",
    "  *Ejemplo*: `42`, `-3`\n",
    "- **Número de punto flotante (`float`)**:\n",
    "  Representa números reales, positivos o negativos, con decimales.\n",
    "  *Ejemplo*: `3.14`, `-0.001`\n",
    "\n",
    "- **Cadena de caracteres (`str`)**:\n",
    "  Representa texto, encerrado en comillas simples, dobles o triples.\n",
    "  *Ejemplo*: `\"hola\"`, `'mundo'`, `\"\"\"texto en varias líneas\"\"\"`\n",
    "\n",
    "- **Booleano (`bool`)**:\n",
    "  Representa uno de dos valores: `True` (verdadero) o `False` (falso).\n",
    "  *Ejemplo*: `True`, `False`\n",
    "\n",
    "- **Lista (`list`)**:\n",
    "  Una colección ordenada y mutable de elementos, que pueden ser de diferentes tipos de datos.\n",
    "  *Ejemplo*: `[1, 2, 3]`, `['manzana', 'banana', 'cereza']`\n",
    "\n",
    "- **Tupla (`tuple`)**:\n",
    "  Una colección ordenada e inmutable de elementos, que pueden ser de diferentes tipos de datos.\n",
    "  *Ejemplo*: `(1, 2, 3)`, `('manzana', 'banana', 'cereza')`\n",
    "\n",
    "- **Diccionario (`dict`)**:\n",
    "  Una colección no ordenada y mutable de pares clave-valor.\n",
    "  *Ejemplo*: `{'nombre': 'Alicia', 'edad': 25}`, `{'manzana': 1, 'banana': 2}`\n",
    "\n",
    "- **Conjunto (`set`)**:\n",
    "  Una colección no ordenada de elementos únicos.\n",
    "  *Ejemplo*: `{1, 2, 3}`, `{'manzana', 'banana', 'cereza'}`\n",
    "\n",
    "- **Tipo nulo (`NoneType`)**:\n",
    "  Representa la ausencia de un valor o un valor nulo.\n",
    "  *Ejemplo*: `None, NaN, NaT`\n",
    "  \n",
    "- **Object (`Object`)**:\n",
    "  Representa un tipo de data donde hay texto incluido.\n",
    "  *Ejemplo*: `'SKU-1'`"
   ]
  },
  {
   "cell_type": "markdown",
   "id": "c29b4946-17eb-4752-8722-67a75ca821bc",
   "metadata": {},
   "source": [
    "### 1.2 Cargar datos"
   ]
  },
  {
   "cell_type": "markdown",
   "id": "cc64365e-ff9d-46bc-8b6f-70aafefc1591",
   "metadata": {},
   "source": [
    "Los comandos más utilizados son `pd.read_csv()` y `pd.read_excel()`. Para algunos archivos que contienen caracteres\n",
    "especiales como ñ, tildes u otros del idioma español, se adiciona `encoding='utf-8'` o tambien `encoding='latin1'`\n",
    "\n",
    "En archivos de Excel se debe traer cada hoja por aparte, con el comando `sheet_name = 'Hoja 1'`\n",
    "Si se desan columnas especficas se puede usar `usecols = 'A:G'`"
   ]
  },
  {
   "cell_type": "markdown",
   "id": "86cab686-ed66-44bc-b901-8bc7c7c7beb3",
   "metadata": {},
   "source": [
    "<small>\n",
    "<pre>\n",
    "\\\n",
    "│\n",
    "├── dataset\\\n",
    "│   ├── demanda_dia.csv\n",
    "│   └── sku_costos_utilidad.xlsx\n",
    "│\n",
    "└── planeacion_demanda.ipynb\n",
    "</pre>\n",
    "\n"
   ]
  },
  {
   "cell_type": "code",
   "execution_count": null,
   "id": "90c64da4-a7e5-4abc-93c0-adf5d3364b06",
   "metadata": {},
   "outputs": [],
   "source": [
    "ruta_demanda = r'dataset\\demanda_dia.csv'\n",
    "df = pd.read_csv(ruta_demanda, encoding='utf-8')  "
   ]
  },
  {
   "cell_type": "code",
   "execution_count": null,
   "id": "a2c3730c-a5bf-4012-922c-c26309764f05",
   "metadata": {},
   "outputs": [],
   "source": [
    "df"
   ]
  },
  {
   "cell_type": "markdown",
   "id": "98b95a10-6fd7-435a-880f-37619459b3b6",
   "metadata": {},
   "source": [
    "### 1.3 Comandos Básicos para Exploración de Data Frames"
   ]
  },
  {
   "cell_type": "markdown",
   "id": "bfecbdba-97a3-44e8-b7f9-91c26ab85ea6",
   "metadata": {},
   "source": [
    "Los comandos más útiles a la hora de revisar y explorar la información son:\n",
    "* `.head()`, `.tail()`, `.info()`, `.describe()`\n",
    "* `.shape`, `.columns`, `.dtypes`, `unique()` "
   ]
  },
  {
   "cell_type": "markdown",
   "id": "5e2c3563-1228-42bc-b7b4-a2b1c46d8295",
   "metadata": {},
   "source": [
    "<font color='navy'><b> Ejercicio 1: Explorar df con las funciones indicadas"
   ]
  },
  {
   "cell_type": "markdown",
   "id": "4de5528e-9ef3-470f-ae8a-8febda404a31",
   "metadata": {},
   "source": [
    "### 1.4 Indices en Pandas [Index]"
   ]
  },
  {
   "cell_type": "markdown",
   "id": "3d9db019-e574-458b-87f4-f8ed69c99d02",
   "metadata": {},
   "source": [
    "<small>\n",
    "\n",
    "Un índice en pandas es una etiqueta que se utiliza para identificar las filas de un DataFrame o una Serie. \n",
    "Cada fila tiene una etiqueta de índice, que puede ser un número entero, una cadena, una fecha u otro tipo de dato.\n",
    "\n",
    "**Tipos de Índices:**\n",
    "\n",
    "- Indice estándar: Un rango de enteros desde 0 hasta N-1, donde N es el número de filas.\n",
    "- Indice basado en etiquetas: Puede ser cualquier tipo de dato (cadenas, números, etc.) que proporcione etiquetas únicas para las filas.\n",
    "- Multiíndice (MultiIndex): Permite tener múltiples niveles de índices para etiquetar las filas en una estructura jerárquica.\n",
    "\n",
    "**DatetimeIndex** es un tipo especial de índice en pandas utilizado para trabajar con datos temporales. \n",
    "Este índice se compone de objetos datetime y permite realizar operaciones y análisis específicos de series\n",
    "temporales, como resampling, rolling windows y alineación temporal.\n",
    "\n",
    "*Ventajas:*\n",
    "\n",
    "- Facilita la manipulación de datos temporales.\n",
    "- Permite acceder a datos por año, mes, día, etc.\n",
    "- Facilita el análisis de series temporales, como la interpolación, suavización y la descomposición."
   ]
  },
  {
   "cell_type": "markdown",
   "id": "102751c0-b953-4fda-bc19-68c7781f211a",
   "metadata": {},
   "source": [
    "## 2. Pre-procesamiento de datos"
   ]
  },
  {
   "cell_type": "markdown",
   "id": "86a8b371-4df9-4666-8d94-d7452534656e",
   "metadata": {},
   "source": [
    "### 2.1 Formato Fecha [datetime index]"
   ]
  },
  {
   "cell_type": "code",
   "execution_count": null,
   "id": "13edab56-b9cf-4aa5-b855-477fc5f4cefe",
   "metadata": {},
   "outputs": [],
   "source": [
    "# Asignar formato datetime a columna Fecha\n",
    "df['FECHA'] = pd.to_datetime(df['FECHA'], format='%d-%m-%y')\n",
    "df"
   ]
  },
  {
   "cell_type": "code",
   "execution_count": null,
   "id": "a27c7c56-1fc5-4532-84a2-ac317a930942",
   "metadata": {},
   "outputs": [],
   "source": [
    "# Establecer FECHA como datetime index\n",
    "df.set_index('FECHA', inplace=True)\n",
    "df"
   ]
  },
  {
   "cell_type": "code",
   "execution_count": null,
   "id": "c15fbeb2-8105-4094-b6bc-d71e8d4777aa",
   "metadata": {},
   "outputs": [],
   "source": [
    "# Eliminar columna COD_ALMACEN\n",
    "df = df.drop(columns = 'COD_ALMACEN')\n",
    "df"
   ]
  },
  {
   "cell_type": "code",
   "execution_count": null,
   "id": "91a9a8ee-362f-4d47-a928-2efc4a602619",
   "metadata": {},
   "outputs": [],
   "source": [
    "# Filtrar por fechas posteriores a 2021-01-01\n",
    "df = df[df.index >= '2021-01-01'].copy()\n",
    "df"
   ]
  },
  {
   "cell_type": "markdown",
   "id": "939b8a98-52a1-4d78-8628-2e1b64384667",
   "metadata": {},
   "source": [
    "### 2.2 Agrupar demanda por semana"
   ]
  },
  {
   "cell_type": "markdown",
   "id": "e09e2948-c276-4632-b367-7eff485d0853",
   "metadata": {},
   "source": [
    "Otras opciones de agrupación: 'W-TUE, '2W-SUN', 'ME', '3ME,, 'C', 'B', 'YE'"
   ]
  },
  {
   "cell_type": "code",
   "execution_count": null,
   "id": "045b5f5b-1959-48cb-9750-255cbb8b05d9",
   "metadata": {},
   "outputs": [],
   "source": [
    "# Usar función GROUP BY para agrupar demanda por semana, comenzando los lunes y terminando los domingos\n",
    "\n",
    "df_sem = df.groupby(['COD_SKU', 'DESC_SKU']).resample('W-SUN').sum(numeric_only=True)\n",
    "df_sem"
   ]
  },
  {
   "cell_type": "code",
   "execution_count": null,
   "id": "a98a4991-e89d-447a-97fc-c2974366af67",
   "metadata": {},
   "outputs": [],
   "source": [
    "# Resetear Index para aplanar la tabla\n",
    "df_sem = df_sem.reset_index()\n",
    "df_sem"
   ]
  },
  {
   "cell_type": "code",
   "execution_count": null,
   "id": "3229a485-9740-4e1b-89c4-a8be7a994cac",
   "metadata": {},
   "outputs": [],
   "source": [
    "# Colocar semanas como columnas con una tabla dinamica\n",
    "df_sem_td = df_sem.pivot(index=['COD_SKU', 'DESC_SKU'], columns='FECHA', values='DEMANDA').fillna(0)\n",
    "df_sem_td"
   ]
  },
  {
   "cell_type": "markdown",
   "id": "7ac303a0-bb06-4ffa-8738-001fa338cb65",
   "metadata": {},
   "source": [
    "### 2.3 Slicing en Pandas"
   ]
  },
  {
   "cell_type": "markdown",
   "id": "7c0a18a8-99dc-4632-bd55-db5b1f8e012b",
   "metadata": {},
   "source": [
    "<small>\n",
    "\n",
    "- Considera una lista de letras:\n",
    "  \n",
    "   **letras = ['a', 'b', 'c', 'd', 'e', 'f', 'g', 'h', 'i', 'j']**\n",
    "  \n",
    "**letras[`:`]**:     El `:` en la posición indica que queremos seleccionar todos los elementos de la lista.\n",
    "                     Por lo tanto, letras[:] devuelve una copia de toda la lista letras. `Resultado: ['a', 'b', 'c', 'd', 'e', 'f', 'g', 'h', 'i', 'j']`\n",
    "\n",
    "**letras[`:5`]**:    Indica que queremos seleccionar desde el inicio hasta antes de la posicion 5 *-sin incluirla-*, que es la letra 'e'. `Resultado: ['a', 'b', 'c', 'd', 'e']`\n",
    "\n",
    "**letras[`3:`]**:    Indica que queremos seleccionar desde la posicion 3 *-incluyendola-*, que es la letra 'd' hasta la posicion final. `Resultado: ['d', 'e', 'f', 'g', 'h', 'i', 'j']`\n",
    "\n",
    "**letras[`2:8`]**:   Indica que queremos seleccionar desde la posicion 2 *-incluyendola-*, que es la letra 'c' hasta *antes* de la posicion 8 *-sin incluirla-*, que corresponde a la letra 'h'. `Resultado: ['c', 'd', 'e', 'f', 'g', 'h']`\n",
    "\n",
    "**letras[`-5:`]**:   El -5: en la posición indica que queremos comenzar a seleccionar en la posicion -5, que es contando de atras hacia adelante, que es la letra 'f', hasta el final de la lista. `Resultado ['f', 'g', 'h', 'i', 'j']`, que son los últimos 5 elementos de la lista letras.\n",
    "\n",
    "**letras[`-6:-2`]**: El -6: en la posición indica que queremos comenzar a seleccionar en la posicion -6 contando de atras hacia adelante, que es la letra 'e', hasta dos elementos antes del final, que es la letra 'h'. `Resultado ['e', 'f', 'g', 'h']`.  "
   ]
  },
  {
   "cell_type": "code",
   "execution_count": null,
   "id": "f1bccd3c-798b-429e-b336-baa472e52364",
   "metadata": {},
   "outputs": [],
   "source": [
    "letras = ['a', 'b', 'c', 'd', 'e', 'f', 'g', 'h', 'i', 'j']"
   ]
  },
  {
   "cell_type": "code",
   "execution_count": null,
   "id": "f44314b1-614f-4e7d-81c8-f01043630d09",
   "metadata": {},
   "outputs": [],
   "source": [
    "letras[:]"
   ]
  },
  {
   "cell_type": "markdown",
   "id": "0f9b3e7f-c884-47ff-8245-b35533719beb",
   "metadata": {},
   "source": [
    "<small>\n",
    "\n",
    "El método `iloc` es usado para seleccionar filas y columnas por sus posiciones en la matriz.\n",
    "\n",
    "En `df_sem_td.iloc[ : ,-2: ]`:\n",
    "- ` : ` significa que queremos seleccionar las filas desde el inicio hasta el final.\n",
    "- `-2: ` en las columnas significa que queremos seleccionar las últimas 2 columnas."
   ]
  },
  {
   "cell_type": "markdown",
   "id": "15bf231e-8e5b-4ef0-9ae3-02d7c6bbd791",
   "metadata": {},
   "source": [
    "<font color='navy'><b> Ejercicio 2: \n",
    "- Seleccione de la fila 10 a la 20 y de la columna 5 hasta 3 columnas antes de la ultima de df_sem_td\n",
    "- Seleccione de la fila 5 a la ultima y de la columna inicial hasta 10 columnas antes de la ultima de df_sem_td\n",
    "- Seleccione de la fila inicial hasta 20 antes de la ultima y de la columna inicial hasta la ultima de df_sem_td\n"
   ]
  },
  {
   "cell_type": "markdown",
   "id": "a21ebd02-3ea0-4dc0-8298-103c38b2ebf0",
   "metadata": {},
   "source": [
    "## 3. Calculo de la demanda del último año"
   ]
  },
  {
   "cell_type": "code",
   "execution_count": null,
   "id": "d8905a6e-2842-4847-b8c2-bdb14b46ac1f",
   "metadata": {},
   "outputs": [],
   "source": [
    "# Selecciona las nombres de columna de las ultimas 52 semanas\n",
    "demanda_ultimo_año = df_sem_td.columns[-52:].tolist()"
   ]
  },
  {
   "cell_type": "code",
   "execution_count": null,
   "id": "4fcbc54f-5e99-4cc0-9c46-a8c836dccea2",
   "metadata": {},
   "outputs": [],
   "source": [
    "# Suma las ultimas 52 semanas (un año) de demanda y crea una columna llamada 'TOTAL DEMANDA'\n",
    "df_sem_td['TOTAL_DEMANDA'] = df_sem_td[demanda_ultimo_año].sum(axis=1)\n",
    "df_sem_td"
   ]
  },
  {
   "cell_type": "markdown",
   "id": "f776d2d4-3450-4f83-831c-6c343da7c171",
   "metadata": {},
   "source": [
    "## 4. Calculo de la Utilidad por SKU del último año"
   ]
  },
  {
   "cell_type": "markdown",
   "id": "9c911903-53bb-410b-a4a6-3fe02807b063",
   "metadata": {},
   "source": [
    "### 4.1 Cargar Información de Utilidades"
   ]
  },
  {
   "cell_type": "code",
   "execution_count": null,
   "id": "64fd3e4b-fc1a-4438-983d-e7b7734994e7",
   "metadata": {},
   "outputs": [],
   "source": [
    "# Carga la informacion de Costos Unitarios y Utilidad Unitaria\n",
    "ruta_costos = r'dataset\\sku_costos_utilidad.xlsx'\n",
    "df_skus_costos = pd.read_excel(ruta_costos)\n",
    "df_skus_costos"
   ]
  },
  {
   "cell_type": "code",
   "execution_count": null,
   "id": "783239bd-de44-4ea4-b08b-8cbbbc779d8e",
   "metadata": {},
   "outputs": [],
   "source": [
    "# Selecciona las columnas a traer \n",
    "columnas_importar = ['COD_SKU', 'DESC_SKU', 'COSTO_UNITARIO','UTILIDAD_UNITARIA', 'PRECIO',\t'INVENTARIO_ACTUAL']\n",
    "\n",
    "# Trae las columnas correspondientes a cada codigo. Es equivalente a un BuscarV/BuscarX\n",
    "dem_sem = df_sem_td.merge(df_skus_costos[columnas_importar], on=['COD_SKU','DESC_SKU'], how ='left')\n",
    "dem_sem\n",
    "\n",
    "# Ojo: El Indice se resetea por defecto\n"
   ]
  },
  {
   "cell_type": "markdown",
   "id": "0cac5550-344a-4ae3-a553-e14c23bf792e",
   "metadata": {},
   "source": [
    "### 4.2 Multiplicar Cantidad Anual por Utilidad y Ordenar Descendentemente"
   ]
  },
  {
   "cell_type": "code",
   "execution_count": null,
   "id": "b6e25da0-ca3c-45c5-a3bd-6c19db24fefe",
   "metadata": {},
   "outputs": [],
   "source": [
    "# Calcular total utilidad\n",
    "dem_sem['TOTAL_UTILIDAD'] = dem_sem['TOTAL_DEMANDA'] * dem_sem['UTILIDAD_UNITARIA']\n",
    "\n",
    "# Ordenar Descendentemente por 'Total_Utilidad'\n",
    "dem_sem = dem_sem.sort_values(by='TOTAL_DEMANDA', ascending=False)\n",
    "\n",
    "dem_sem"
   ]
  },
  {
   "cell_type": "markdown",
   "id": "02f26d15-b087-4369-8219-990667ef3a23",
   "metadata": {},
   "source": [
    "## 5. Graficar los 5 productos de mayor utilidad"
   ]
  },
  {
   "cell_type": "code",
   "execution_count": null,
   "id": "12591797-1bc9-42a8-94b5-2b2842aeb6f2",
   "metadata": {},
   "outputs": [],
   "source": [
    "# Seleccionar datos de los 5 SKU de mas utilidad\n",
    "top_5_sku = dem_sem.iloc[:5, 2:157]\n",
    "\n",
    "# Seleccionar estilo ggplot\n",
    "plt.style.use('ggplot')\n",
    "\n",
    "# Crear figura y conjunto de ejes\n",
    "fig, ax = plt.subplots(figsize=(20, 6))\n",
    "\n",
    "# Iterar cada una de las 5 filas\n",
    "for i in range(5):\n",
    "    fila = top_5_sku.iloc[i]\n",
    "    label = dem_sem.iloc[i, 1]  # Acceder al nombre de cada SKU\n",
    "    ax.plot(fila.index, fila.values,  label=label)  # Convierte el indice a fecha para graficar\n",
    "\n",
    "ax.set_title('Demanda semanal para Top 5')\n",
    "ax.set_xlabel('Semana')\n",
    "ax.set_ylabel('Demanda')\n",
    "ax.legend()\n",
    "plt.xticks(rotation=45)\n",
    "plt.tight_layout()\n",
    "\n",
    "plt.show()"
   ]
  },
  {
   "cell_type": "markdown",
   "id": "731719c2-9643-4b24-a51f-b5a9ceecf297",
   "metadata": {},
   "source": [
    "## 6. Calcular Participación Individual y Acumulada"
   ]
  },
  {
   "cell_type": "code",
   "execution_count": null,
   "id": "1eaa5334-fa50-4a7a-92f6-1ea3de87f6f5",
   "metadata": {},
   "outputs": [],
   "source": [
    "# Calcula y adiciona la participación individual de cada sku \n",
    "dem_sem['PART_IND'] = dem_sem['TOTAL_UTILIDAD']/dem_sem['TOTAL_UTILIDAD'].sum()\n",
    "\n",
    "# Calcula la participacion acumulada \n",
    "dem_sem['PART_ACUM'] = dem_sem['PART_IND'].cumsum()\n",
    "\n",
    "dem_sem\n"
   ]
  },
  {
   "cell_type": "markdown",
   "id": "c06eb5a6-b772-496e-928a-b597d57df1d5",
   "metadata": {},
   "source": [
    "## 7. Clasificar ABC"
   ]
  },
  {
   "cell_type": "code",
   "execution_count": null,
   "id": "ca67f98d-9abd-4efc-bdbd-5a29f8558213",
   "metadata": {},
   "outputs": [],
   "source": [
    "def ABC_segmentacion(part): #función para aplicar a cada valor de participacion acumulada\n",
    "   \n",
    "    if part > 0 and part < 0.8:\n",
    "        return 'A'\n",
    "    elif part >= 0.80 and part < 0.95:\n",
    "        return 'B'\n",
    "    elif part >= 0.95:\n",
    "        return 'C'"
   ]
  },
  {
   "cell_type": "code",
   "execution_count": null,
   "id": "8fd2e9f0-d917-42b2-8655-27ce6ed76706",
   "metadata": {},
   "outputs": [],
   "source": [
    "# Aplica la funcion de ABC_segmentacion a cada porcentaje acumulado\n",
    "dem_sem['CLASIF_ABC'] = dem_sem['PART_ACUM'].apply(ABC_segmentacion)\n",
    "\n",
    "dem_sem"
   ]
  },
  {
   "cell_type": "markdown",
   "id": "50d204f7-91fa-41fa-b71a-ddfa1ce8b2d1",
   "metadata": {},
   "source": [
    "## 8. Resumen ABC"
   ]
  },
  {
   "cell_type": "code",
   "execution_count": null,
   "id": "0d385118-6c96-418d-a7f9-97e3602be926",
   "metadata": {},
   "outputs": [],
   "source": [
    "# Cuenta el número de referencias en cada clasificación A, B o C\n",
    "conteo_tipo = dem_sem['CLASIF_ABC'].value_counts().reindex(['A', 'B', 'C'])\n",
    "\n",
    "# Suma el total de referencias\n",
    "total_sku = conteo_tipo.sum()\n",
    "\n",
    "# Calcula el porcentaje de referencias en cada clasificación\n",
    "porcentaje = (conteo_tipo / total_sku)\n",
    "\n",
    "# Aplica formato porcentaje y un decimal\n",
    "porcentaje_f = ['{:.1%}'.format(pct) for pct in porcentaje]\n",
    "\n",
    "# Crea un DataFrame con las columnas de Clasificación y Porcentaje\n",
    "resumen = pd.DataFrame({'Clasificacion': conteo_tipo, 'Porcentaje': porcentaje_f})\n",
    "\n",
    "# Aplica totales al final de la tabla\n",
    "resumen.loc['Total'] = [total_sku, '{:.1%}'.format(porcentaje.sum())]\n",
    "\n",
    "resumen"
   ]
  },
  {
   "cell_type": "markdown",
   "id": "2e54511d-4f0a-4542-8a3c-cacebf5f8ef3",
   "metadata": {},
   "source": [
    "## 9. Coeficiente de Variacion"
   ]
  },
  {
   "cell_type": "code",
   "execution_count": null,
   "id": "81ccc0a2-6669-4d62-929f-9288a330a9da",
   "metadata": {},
   "outputs": [],
   "source": [
    "# Calcula el promedio semanal del último año y redondea a 0 decimales\n",
    "dem_sem['PROMEDIO_SEM'] = dem_sem[demanda_ultimo_año].mean(axis=1).round(0)\n",
    "\n",
    "# Calcula la desviación estandard semanal del último año y redondea a 0 decimales\n",
    "dem_sem['DESVEST_SEM'] = dem_sem[demanda_ultimo_año].std(axis=1).round(0)\n",
    "\n",
    "# Calcula el coeficiente de Variación y redondea a 3 decimales\n",
    "dem_sem['CV'] = (dem_sem['DESVEST_SEM']/dem_sem['PROMEDIO_SEM']).round(3)\n",
    "dem_sem"
   ]
  },
  {
   "cell_type": "markdown",
   "id": "ec381f28-f33a-480e-b98e-c2df189520b1",
   "metadata": {},
   "source": [
    "### 9.1 Valores Nulos y otras funciones"
   ]
  },
  {
   "cell_type": "markdown",
   "id": "04f341b6-3233-4bfa-b255-fcd92216fb65",
   "metadata": {},
   "source": [
    "- **df.isnull().sum():**\n",
    "Chequea por valores faltantes o #N/A y los suma por cada columna\n",
    "\n",
    "- **DataFrame.dropna():**\n",
    "Remueve los valores faltantes del DataFrame, puede parametrizarse para filas, columnas, columnas especificas. *Ejemplo:* `df['columna'].dropna(), df.dropna(subset='columna')`\n",
    "\n",
    "- **DataFrame.fillna(value):**\n",
    "Rellena los valores faltantes con un valor especifico, por ejemplo 0. *Ejemplo:* `df['columna'].fillna(0)`"
   ]
  },
  {
   "cell_type": "markdown",
   "id": "fb12cdf8-741e-45fa-9c2a-d1b4ea730878",
   "metadata": {},
   "source": [
    "<font color='navy'><b> Ejercicio 3: \n",
    "- Encuentre cuantos NaN tiene cada columna de dem_sem\n",
    "- Cree un nuevo df a partir de dem_sem y elimine las filas con NaN\n",
    "- En dem_sem, reemplace los NaN de la columna 'CV' por 0\n"
   ]
  },
  {
   "cell_type": "code",
   "execution_count": null,
   "id": "a3dd09e3-a03a-444f-9bda-81d7f9f4d608",
   "metadata": {},
   "outputs": [],
   "source": [
    "# Reemplazar NaN en 'CV'\n"
   ]
  },
  {
   "cell_type": "markdown",
   "id": "128dda16-a036-475b-aa38-88b845803c9f",
   "metadata": {},
   "source": [
    "## 10. Clasificar XYZ"
   ]
  },
  {
   "cell_type": "code",
   "execution_count": null,
   "id": "d31fbee8-0040-4fd2-91bd-ea73ec56b5dd",
   "metadata": {},
   "outputs": [],
   "source": [
    "def XYZ_segmentation(wmape):\n",
    "    if wmape <= 0:\n",
    "        return 'Z'\n",
    "    elif wmape > 0 and wmape <= 0.5:\n",
    "        return 'X'\n",
    "    elif wmape > 0.5 and wmape <= 1:\n",
    "        return 'Y'\n",
    "    elif wmape > 1:\n",
    "        return 'Z'"
   ]
  },
  {
   "cell_type": "code",
   "execution_count": null,
   "id": "7fb22aff-d348-4e03-a4a3-d299be9ab074",
   "metadata": {},
   "outputs": [],
   "source": [
    "# ApLica fucion para clasificar XYZ\n",
    "dem_sem['CLASIF_XYZ'] = dem_sem['CV'].apply(XYZ_segmentation)\n",
    "dem_sem"
   ]
  },
  {
   "cell_type": "markdown",
   "id": "4b8aa223-d9e4-4b2d-b732-9e67ce668abf",
   "metadata": {},
   "source": [
    "## 11. Resumen XYZ"
   ]
  },
  {
   "cell_type": "code",
   "execution_count": null,
   "id": "31a2da3c-bcb4-496e-980f-917e4ebe7026",
   "metadata": {},
   "outputs": [],
   "source": [
    "# Contar referencias en cada clasificacion\n",
    "conteo_tipo = dem_sem['CLASIF_XYZ'].value_counts()\n",
    "\n",
    "# Suma de total referencias\n",
    "total_sku = dem_sem['CLASIF_XYZ'].value_counts().sum()\n",
    "\n",
    "# Calcula el porcentaje de participacion de cada tipo de clasificacion\n",
    "porcentaje_xyz = (conteo_tipo / total_sku)\n",
    "\n",
    "# Crea nuevo data frame con resumen\n",
    "resumen = pd.DataFrame({'Clasificacion': conteo_tipo, 'Porcentaje': porcentaje_xyz}).reindex(['X', 'Y', 'Z'])\n",
    "\n",
    "# Aplica totales al final de la tabla\n",
    "resumen.loc['Total'] = [total_sku, porcentaje_xyz.sum()]\n",
    "\n",
    "# Aplica el formato % redondeado a un decimal\n",
    "resumen['Porcentaje'] = ['{:.1%}'.format(pct) for pct in resumen['Porcentaje']]\n",
    "\n",
    "resumen#.reset_index(level=0, drop=False)"
   ]
  },
  {
   "cell_type": "markdown",
   "id": "197749ef-2dc1-42e3-a82d-a9ebb604871c",
   "metadata": {},
   "source": [
    "## 12. Resumen Con Valor del Inventario"
   ]
  },
  {
   "cell_type": "code",
   "execution_count": null,
   "id": "edfeffb2-6ab2-44a8-9d9c-bf1776bd1159",
   "metadata": {},
   "outputs": [],
   "source": [
    "dem_sem['VALOR_INV'] = dem_sem['INVENTARIO_ACTUAL'] * dem_sem['COSTO_UNITARIO']\n",
    "dem_sem"
   ]
  },
  {
   "cell_type": "code",
   "execution_count": null,
   "id": "7f30396f-c947-457f-8eda-cd18482cd0a9",
   "metadata": {},
   "outputs": [],
   "source": [
    "# Agrupa, suma y cuenta los codigos y el valor del inventario segun clasif_abc, clasif_xyz\n",
    "df_tabla_dinamica = dem_sem.pivot_table(index=['CLASIF_ABC', 'CLASIF_XYZ'],\n",
    "                                aggfunc={'COD_SKU': 'count', 'VALOR_INV': 'sum'})\n",
    "\n",
    "# Renombra las columnas \n",
    "df_tabla_dinamica.rename(columns={'COD_SKU': 'SKU_cuenta', 'VALOR_INV': 'VALOR_INV_suma'\n",
    "                                 }, inplace=True)\n",
    "# Suma el total de SKU's \n",
    "total_skus = df_tabla_dinamica['SKU_cuenta'].sum()\n",
    "              \n",
    "# Calcula el porcentaje de cada categoria con respecto al total de SKU's\n",
    "df_tabla_dinamica['SKU_porcentaje'] = df_tabla_dinamica['SKU_cuenta'] / df_tabla_dinamica['SKU_cuenta'\n",
    "                                ].sum()\n",
    "# Suma el porcentaje de SKU's \n",
    "total_porc_skus = df_tabla_dinamica['SKU_porcentaje'].sum()\n",
    "\n",
    "# Calcula el porcentaje del valor del inventario\n",
    "df_tabla_dinamica['VALOR_INV_porcentaje'] = df_tabla_dinamica['VALOR_INV_suma'] / df_tabla_dinamica['VALOR_INV_suma'\n",
    "                                ].sum() \n",
    "              \n",
    "# Suma el valor total del inventario desde df_excel\n",
    "total_valor_inv_suma = dem_sem['VALOR_INV'].sum()\n",
    "\n",
    "# Suma el total del porcentaje del valor del inventario\n",
    "total_porc_valor_inv = df_tabla_dinamica['VALOR_INV_porcentaje'].sum()\n",
    "\n",
    "#Crea un df con los totales                      \n",
    "fila_total = pd.DataFrame({\n",
    "    'SKU_cuenta': [total_skus],\n",
    "    'SKU_porcentaje': [total_porc_skus],\n",
    "    'VALOR_INV_suma': [total_valor_inv_suma],\n",
    "    'VALOR_INV_porcentaje': [total_porc_valor_inv]\n",
    "}, index=pd.MultiIndex.from_tuples([('Total', '')]))\n",
    "\n",
    "# Une la tabla dinamica con el df de los totales\n",
    "df_tabla_dinamica = pd.concat([df_tabla_dinamica, fila_total])\n",
    "df_tabla_dinamica = df_tabla_dinamica[['SKU_cuenta', 'SKU_porcentaje','VALOR_INV_suma',  'VALOR_INV_porcentaje']]\n",
    "#Aplica formato a los porcentajes y a lso valores en $\n",
    "df_tabla_dinamica = df_tabla_dinamica.style.format({'VALOR_INV_suma':'${:,.0f}','SKU_porcentaje': '{:.1%}', 'VALOR_INV_porcentaje': '{:.1%}'})\n",
    "df_tabla_dinamica "
   ]
  },
  {
   "cell_type": "code",
   "execution_count": null,
   "id": "f739d1b7-68f7-48b9-a62e-8008e509177a",
   "metadata": {},
   "outputs": [],
   "source": [
    "# Exportar a excel\n",
    "dem_sem.to_excel('tabla_completa.xlsx', index =  False)"
   ]
  }
 ],
 "metadata": {
  "kernelspec": {
   "display_name": "Python 3 (ipykernel)",
   "language": "python",
   "name": "python3"
  },
  "language_info": {
   "codemirror_mode": {
    "name": "ipython",
    "version": 3
   },
   "file_extension": ".py",
   "mimetype": "text/x-python",
   "name": "python",
   "nbconvert_exporter": "python",
   "pygments_lexer": "ipython3",
   "version": "3.11.9"
  }
 },
 "nbformat": 4,
 "nbformat_minor": 5
}
