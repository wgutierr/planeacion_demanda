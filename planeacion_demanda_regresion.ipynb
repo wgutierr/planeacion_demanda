{
 "cells": [
  {
   "cell_type": "code",
   "execution_count": null,
   "id": "38122598-dbed-4824-8661-55e5c5a7c715",
   "metadata": {},
   "outputs": [],
   "source": [
    "import pandas as pd\n",
    "import numpy as np\n",
    "import matplotlib.pyplot as plt"
   ]
  },
  {
   "cell_type": "markdown",
   "id": "51ef904f-25c0-4605-92f9-a9db1f8f76d5",
   "metadata": {},
   "source": [
    "# <b><font color=\"navy\">Regresion lineal</span></font></b>"
   ]
  },
  {
   "cell_type": "markdown",
   "id": "5ee60d5c-abc0-4684-8d50-32c131b0f687",
   "metadata": {},
   "source": [
    "## 0. Replicar ejercicio Excel"
   ]
  },
  {
   "cell_type": "markdown",
   "id": "9bdc0861-dbd4-4e38-808b-4a7add819ee3",
   "metadata": {},
   "source": [
    "### 0.1 Cargar datos ejercicio excel"
   ]
  },
  {
   "cell_type": "code",
   "execution_count": null,
   "id": "6ea6ee34-765f-407d-8fcf-a53a74b32a37",
   "metadata": {},
   "outputs": [],
   "source": [
    "ruta_datos_excel = r'dataset\\datos_ejercicio_regresion_lineal.xlsx'\n",
    "df_sm = pd.read_excel(ruta_datos_excel )\n",
    "df_sm"
   ]
  },
  {
   "cell_type": "code",
   "execution_count": null,
   "id": "f9a1dc6e-c2eb-44b5-887a-2490bd4fe22e",
   "metadata": {},
   "outputs": [],
   "source": [
    "# Adicionar Variable Dummy\n",
    "def colegio_en_clase(columna):\n",
    "    if columna == 'Si':\n",
    "        return 1\n",
    "    else:\n",
    "        return 0\n",
    "df_sm['Colegio_Abierto_Dummy'] =  df_sm['Colegio Abierto'].apply(colegio_en_clase)\n",
    "df_sm"
   ]
  },
  {
   "cell_type": "markdown",
   "id": "de74018e-c11c-453a-a8d3-c26d5d9fe428",
   "metadata": {},
   "source": [
    "### 0.2 Aplicar modelo regresion lineal desde statsmodel"
   ]
  },
  {
   "cell_type": "markdown",
   "id": "40ecfc04-9dda-4fc0-851e-d2241cbc087d",
   "metadata": {},
   "source": [
    "**Ejercicio:** Usar prompt en ChatGPT"
   ]
  },
  {
   "cell_type": "markdown",
   "id": "c29b4946-17eb-4752-8722-67a75ca821bc",
   "metadata": {},
   "source": [
    "## 1. Cargar datos"
   ]
  },
  {
   "cell_type": "code",
   "execution_count": null,
   "id": "ad0b3a0b-aa3e-4724-a4db-6e572a24a860",
   "metadata": {},
   "outputs": [],
   "source": [
    "# Definir ubicacion datos\n",
    "ruta_demanda = r'dataset\\demanda_dia.csv'\n",
    "\n",
    "# Leer archivo\n",
    "df = pd.read_csv(ruta_demanda)"
   ]
  },
  {
   "cell_type": "markdown",
   "id": "a1e670e5-6e78-4533-8d93-300afa8d8db8",
   "metadata": {},
   "source": [
    "## 2. Pre-procesamiento de datos"
   ]
  },
  {
   "cell_type": "code",
   "execution_count": null,
   "id": "90c64da4-a7e5-4abc-93c0-adf5d3364b06",
   "metadata": {},
   "outputs": [],
   "source": [
    "# Asignar formato fecha a la columna FECHA\n",
    "df['FECHA'] = pd.to_datetime(df['FECHA'], format='%d-%m-%y')\n",
    "\n",
    "# Establecer FECHA como datetime index\n",
    "df.set_index('FECHA', inplace=True)\n",
    "\n",
    "# Filtrar fechas mayores a 2021-01-01\n",
    "df = df[df.index >= '2021-01-01'].copy()\n",
    "df"
   ]
  },
  {
   "cell_type": "markdown",
   "id": "8cfb323e-58a3-41df-9b06-66c8c7e16a55",
   "metadata": {},
   "source": [
    "### 2.1 Llenar todas las fechas faltantes con 0"
   ]
  },
  {
   "cell_type": "code",
   "execution_count": null,
   "id": "a720fc50-c379-4326-a2d3-b4d84d425daa",
   "metadata": {},
   "outputs": [],
   "source": [
    "# Tabla dinamica para llenar fechas faltantes con cero´s\n",
    "df = pd.pivot_table(data=df,\n",
    "                         values='DEMANDA',\n",
    "                         index=['COD_SKU','DESC_SKU'],\n",
    "                         columns='FECHA',\n",
    "                         aggfunc='sum',\n",
    "                         fill_value=0).stack().reset_index() \n",
    "\n",
    "# Devolver nombre a columna de demanda ya que se pierde al hacer la tabla\n",
    "df = df.rename(columns = {0:'DEMANDA'})\n",
    "\n",
    "# Volver a asignar fecha como indice\n",
    "df = df.set_index(df['FECHA'])\n",
    "df"
   ]
  },
  {
   "cell_type": "markdown",
   "id": "1cfa53ce-9e25-43f3-89a8-5fa4a2598150",
   "metadata": {},
   "source": [
    "## 3. Feature Engineering"
   ]
  },
  {
   "cell_type": "markdown",
   "id": "073e60b9-f346-4929-81b3-093a03136c26",
   "metadata": {},
   "source": [
    "### 3.1 Atributos a extraer desde la fecha"
   ]
  },
  {
   "cell_type": "markdown",
   "id": "2ba943e9-1118-484d-aff2-a11c25489ab7",
   "metadata": {},
   "source": [
    "Son atributos que pueden extraerse desde la fecha de cada registro. Pueden ser entre otros: día de la semana, número de día, número\n",
    "del mes, número del año, número de trimestre, días laborales, si es fin de semana, si es fin de mes, si es inicio de mes, número de días del mes"
   ]
  },
  {
   "cell_type": "code",
   "execution_count": null,
   "id": "4a0c1afb-a305-4bed-9bc8-5931e95d9c1d",
   "metadata": {},
   "outputs": [],
   "source": [
    "# Extrae el dia de la semana del index\n",
    "df['DIA_SEM'] = df.index.weekday\n",
    "\n",
    "# Extrae el Mes del index\n",
    "df['MES'] = df.index.month\n",
    "\n",
    "# Extrae el dia del mes del index\n",
    "df['DIA'] = df.index.day\n",
    "\n",
    "# Extrae el numero de la semana del index\n",
    "df['SEMANA'] = df.index.isocalendar().week\n",
    "\n",
    "# Extrae el numero del año del index\n",
    "df['AÑO'] = df.index.year\n",
    "\n",
    "df"
   ]
  },
  {
   "cell_type": "markdown",
   "id": "02690f9f-70cc-41b9-a895-100359bf85b4",
   "metadata": {},
   "source": [
    "### 3.2 Variable Dummy Festivos"
   ]
  },
  {
   "cell_type": "code",
   "execution_count": null,
   "id": "f1021cee-9cff-48ab-b348-39d51facacc5",
   "metadata": {},
   "outputs": [],
   "source": [
    "# Importar libreria de festivos\n",
    "import holidays\n",
    "\n",
    "# Descargar festivos Colombia\n",
    "festivos_colombia = holidays.CO()\n",
    "\n",
    "# Filtrar por años necesarios\n",
    "festivos_colombia = [items[0] for items in holidays.CO(years=[2021, 2022, 2023]).items()]\n",
    "\n",
    "#festivos_colombia"
   ]
  },
  {
   "cell_type": "code",
   "execution_count": null,
   "id": "720e2bed-6785-4944-b06f-5fcad3526550",
   "metadata": {},
   "outputs": [],
   "source": [
    "# Adiciona un 1 si el index esta en festivo_colombia, si no esta, adiciona 0\n",
    "df['FESTIVO'] = df.index.isin(pd.to_datetime(festivos_colombia)).astype(int)\n",
    "\n",
    "df"
   ]
  },
  {
   "cell_type": "markdown",
   "id": "6f1c7a66-77f3-4164-a92c-9782e8fdadb9",
   "metadata": {},
   "source": [
    "### 3.3 Atributos tipo \"LAGS\""
   ]
  },
  {
   "cell_type": "markdown",
   "id": "020b0c99-9e9e-4219-874d-165aa91e8c65",
   "metadata": {},
   "source": [
    "Son \"desfases\" que se usan como atributos y que pueden aportar significativamente a que el algoritmo detecte la estacionalidad en la serie de tiempo. Primero debe agruparse la serie de tiempo por SKU y luego aplicar el desfase con la función apply lambda. Debe tenerse cuidado de que no se generen desfases entre SKU´s"
   ]
  },
  {
   "cell_type": "code",
   "execution_count": null,
   "id": "448f5500-7efa-405e-993c-58352ccc4c2e",
   "metadata": {},
   "outputs": [],
   "source": [
    "# Adiciona una columna con la demanda desfasada 7 periodos\n",
    "df['DEMANDA_LAG_7'] = df.groupby(['COD_SKU', 'DESC_SKU'])['DEMANDA'].shift(7)\n",
    "\n",
    "df"
   ]
  },
  {
   "cell_type": "markdown",
   "id": "b93b8c87-a66f-4b60-b59f-a9e1b3d15f6a",
   "metadata": {},
   "source": [
    "# <b><font color=\"navy\">Modelo 1</span></font></b>"
   ]
  },
  {
   "cell_type": "markdown",
   "id": "8d4ddf32-83ac-4a6e-b95d-0cafc84621d1",
   "metadata": {},
   "source": [
    "## 4. Seleccionar SKU"
   ]
  },
  {
   "cell_type": "code",
   "execution_count": null,
   "id": "b3edabf3-e871-4ae9-b4fa-de8fef84fc1c",
   "metadata": {},
   "outputs": [],
   "source": [
    "SKU = 'PT-013'"
   ]
  },
  {
   "cell_type": "code",
   "execution_count": null,
   "id": "776794bf-815d-4533-a295-05e2473f2a6d",
   "metadata": {},
   "outputs": [],
   "source": [
    "# Seleccionar Referencia\n",
    "df_modelo_1 = df[df['COD_SKU'] == SKU].copy()\n",
    "\n",
    "# Eliminar NaN\n",
    "df_modelo_1 = df_modelo_1.dropna(subset = 'DEMANDA_LAG_7')\n",
    "\n",
    "df_modelo_1"
   ]
  },
  {
   "cell_type": "markdown",
   "id": "8af18c60-bef7-47ec-be31-7b2fc325d067",
   "metadata": {},
   "source": [
    "## 5. Seleccionar Atributos y target"
   ]
  },
  {
   "cell_type": "code",
   "execution_count": null,
   "id": "5ff25dd9-6936-48e2-a512-6e49372da971",
   "metadata": {},
   "outputs": [],
   "source": [
    "# Seleccionar variables atributos\n",
    "atributos = ['DIA_SEM',\t'MES',\t'DIA',\t'SEMANA',\t'AÑO',\t'FESTIVO',\t'DEMANDA_LAG_7']\n",
    "\n",
    "# Separar atributos en X y target en y\n",
    "X = df_modelo_1[atributos]\n",
    "y = df_modelo_1['DEMANDA']"
   ]
  },
  {
   "cell_type": "markdown",
   "id": "e2976697-b80e-45b6-b494-8e8cbd1b5c7f",
   "metadata": {},
   "source": [
    "## 6. Set de entrenamiento y Set de testeo"
   ]
  },
  {
   "cell_type": "code",
   "execution_count": null,
   "id": "3764f225-14ca-4eed-a57b-ea7441e8aff9",
   "metadata": {},
   "outputs": [],
   "source": [
    "# Dividir el set de datos: 80% Entrenamiento - 20% Testeo\n",
    "punto_limite = int(len(df_modelo_1) * 0.8)\n",
    "\n",
    "# Separar Set de atributos y target por fecha limite\n",
    "X_train, X_test = X[:punto_limite], X[punto_limite:]\n",
    "y_train, y_test = y[:punto_limite], y[punto_limite:]\n",
    "\n",
    "print(\"X_train:\")\n",
    "print(X_train)\n",
    "print(\"\\nX_test:\")\n",
    "print(X_test)\n",
    "print(\"\\ny_train:\")\n",
    "print(y_train)\n",
    "print(\"\\ny_test:\")\n",
    "print(y_test)"
   ]
  },
  {
   "cell_type": "markdown",
   "id": "086694e3-0833-4b45-88ab-d0dcfb1953c1",
   "metadata": {},
   "source": [
    "## 7. Entrenamiento del modelo"
   ]
  },
  {
   "cell_type": "code",
   "execution_count": null,
   "id": "ccb89f37-fca8-48ca-8958-164d01caed10",
   "metadata": {},
   "outputs": [],
   "source": [
    "# Importar Regresion Lineal de scikitlearn\n",
    "from sklearn.linear_model import LinearRegression\n"
   ]
  },
  {
   "cell_type": "code",
   "execution_count": null,
   "id": "7d7f70c7-3296-4348-8a1a-ff884252cf7f",
   "metadata": {},
   "outputs": [],
   "source": [
    "# Entrenar el modelo\n",
    "model_1 = LinearRegression()\n",
    "model_1.fit(X_train, y_train)\n",
    "\n",
    "# Predecir en el set de testeo\n",
    "y_pred = model_1.predict(X_test)\n"
   ]
  },
  {
   "cell_type": "markdown",
   "id": "65d6d515-ef5c-45e8-b7fa-45281b989d06",
   "metadata": {},
   "source": [
    "## 8. Función de métricas de error KPIs"
   ]
  },
  {
   "cell_type": "code",
   "execution_count": null,
   "id": "c2a6ae12-9e01-4d17-9132-8018576a4898",
   "metadata": {},
   "outputs": [],
   "source": [
    "def kpi(y_test, y_pred):\n",
    "    \n",
    "    # Aplicar estilo ggplot\n",
    "    plt.style.use('ggplot')\n",
    "    # Calcula MAE%\n",
    "    mae_porc = (abs(y_test - y_pred).sum())/y_test.sum()\n",
    "    # Calcula Sesgo\n",
    "    sesgo = (y_test - y_pred).sum()/y_test.sum()\n",
    "    # Muestra el MAE%\n",
    "    print('MAE%: {:.2%}'.format(mae_porc)) \n",
    "    # Muestra el sesgo%\n",
    "    print('Sesgo: {:.2%}'.format(sesgo)) \n",
    "    # Calcula el score\n",
    "    score = mae_porc + abs(sesgo)\n",
    "    # Muestra el score\n",
    "    print('Score: {:.2%}'.format(score))\n",
    "\n",
    "    #Grafica\n",
    "    y_test_df = pd.DataFrame(y_test)\n",
    "    \n",
    "    # Graficar Demanda real vs Pronóstico\n",
    "    plt.figure(figsize=(8, 3))\n",
    "    plt.plot(y_test_df.index, y_test_df, label='Demanda', )\n",
    "    plt.plot(y_test_df.index, y_pred, label='Pronóstico RL',  linestyle='--')\n",
    "    plt.xlabel('Periodo', fontsize=10)\n",
    "    plt.xticks(rotation=30, fontsize=7)\n",
    "    plt.ylabel('Cantidad', fontsize=10)\n",
    "    plt.title('Demanda vs Pronóstico')\n",
    "    plt.legend()\n",
    "    plt.show()\n"
   ]
  },
  {
   "cell_type": "code",
   "execution_count": null,
   "id": "f89e8575-8624-4282-9167-0449a5b26dfa",
   "metadata": {},
   "outputs": [],
   "source": [
    "kpi(y_test, y_pred)"
   ]
  },
  {
   "cell_type": "code",
   "execution_count": null,
   "id": "f1aeff8d-42ea-4396-b575-28fc712cb6ee",
   "metadata": {},
   "outputs": [],
   "source": [
    "def importancia_atributos(model, X_test, y_test):\n",
    "\n",
    "    # Extrae el coeficiente de cada atributo del resumen de scikitlearn\n",
    "    importancia_atributos = np.abs(model.coef_)\n",
    "    nombres_atributos = X_train.columns\n",
    "    \n",
    "    # Ordenar desdendentemente por importancia\n",
    "    indice_ordenado = np.argsort(importancia_atributos)[::-1]\n",
    "    importancia_ordenado = importancia_atributos[indice_ordenado]\n",
    "    atributos_ordenados = nombres_atributos[indice_ordenado]\n",
    "    \n",
    "    # Caluculo de R cuadrado \n",
    "    r_cuadrado = model.score(X_test, y_test)\n",
    "    print('R-cuadrado: {:.2%}'.format(r_cuadrado))\n",
    "    \n",
    "    # Calculo de R Cuadrado Ajustado\n",
    "    n = len(y_test)\n",
    "    k = X_test.shape[1]\n",
    "    r_cuadrado_ajustado = 1 - (1 - r_cuadrado) * (n - 1) / (n - k - 1)\n",
    "    print('R-cuadrado ajustado: {:.2%}'.format(r_cuadrado_ajustado))\n",
    "    \n",
    "    # Gráfica\n",
    "    plt.figure(figsize=(6, 3))\n",
    "    plt.bar(range(len(importancia_ordenado)), importancia_ordenado, align='center')\n",
    "    plt.xticks(range(len(importancia_ordenado)), atributos_ordenados, rotation=30, fontsize=7)\n",
    "    plt.ylabel('Importancia (Magnitud Coeficiente)', fontsize=8)\n",
    "    plt.title('Importancia de Atributos en Regresion Lineal',fontsize=12)\n",
    "    plt.show()"
   ]
  },
  {
   "cell_type": "code",
   "execution_count": null,
   "id": "bde08bfa-2273-4fc0-8f85-c0aa09b3b2e9",
   "metadata": {},
   "outputs": [],
   "source": [
    "importancia_atributos(model_1, X_test, y_test)"
   ]
  },
  {
   "cell_type": "markdown",
   "id": "64c35cbc-f9f5-485a-a038-197a9316ebc7",
   "metadata": {},
   "source": [
    "# <b><font color=\"navy\">Modelo 2</span></font></b>"
   ]
  },
  {
   "cell_type": "markdown",
   "id": "7faee83c-54fd-4dd7-8323-1cddb8a2d152",
   "metadata": {},
   "source": [
    "## 9. Atributos de PMS estacional y Seno de Dia_Sem"
   ]
  },
  {
   "cell_type": "code",
   "execution_count": null,
   "id": "939d48c1-7477-48b5-907f-0542c1611e64",
   "metadata": {},
   "outputs": [],
   "source": [
    "# Retomar datos iniciales\n",
    "df_modelo_2 = df.copy()\n",
    "\n",
    "# Adicionar Promedio movil simple con n=3 de forma estacional\n",
    "df_modelo_2['PMS_DEMANDA_3'] = df_modelo_2.groupby(['COD_SKU', 'DESC_SKU', 'DIA_SEM'])['DEMANDA'].transform(lambda x: x.rolling(window=3, \n",
    "                                                                                        min_periods=1).mean().shift(1))\n",
    "\n",
    "# Adicionar Seno del Dia de la semana\n",
    "df_modelo_2['SENO_DIA_SEM'] = np.sin(df_modelo_2['DIA_SEM'])\n",
    "\n",
    "df_modelo_2"
   ]
  },
  {
   "cell_type": "code",
   "execution_count": null,
   "id": "b62f46ba-9382-4747-b80d-6692ed934639",
   "metadata": {},
   "outputs": [],
   "source": [
    "# Seleccionar Referencia\n",
    "df_modelo_2 = df_modelo_2[df_modelo_2['COD_SKU'] == SKU].copy()\n",
    "\n",
    "# Eliminar NaN\n",
    "df_modelo_2 = df_modelo_2.dropna(subset = ['DEMANDA_LAG_7','PMS_DEMANDA_3'])\n",
    "\n",
    "df_modelo_2"
   ]
  },
  {
   "cell_type": "code",
   "execution_count": null,
   "id": "1d0d1d41-6c2b-46e9-8c10-c5d9466339af",
   "metadata": {},
   "outputs": [],
   "source": [
    "# Seleccionar variables atributos\n",
    "atributos = ['DIA_SEM', 'MES',\t'DIA',\t'SEMANA',\t'AÑO',\t'FESTIVO', 'DEMANDA_LAG_7',  'PMS_DEMANDA_3', \n",
    "            'SENO_DIA_SEM',\t]\n",
    "\n",
    "# Separar atributos en X y target en y\n",
    "X = df_modelo_2[atributos]\n",
    "y = df_modelo_2['DEMANDA']"
   ]
  },
  {
   "cell_type": "code",
   "execution_count": null,
   "id": "b7dfd7c0-4e12-4c80-aa58-045a6427b2ee",
   "metadata": {},
   "outputs": [],
   "source": [
    "# Dividir el set de datos: 80% Entrenamiento - 20% Testeo\n",
    "punto_limite = int(len(df_modelo_2) * 0.8)\n",
    "\n",
    "# Separar Set de atributos y target por fecha limite\n",
    "X_train, X_test = X[:punto_limite], X[punto_limite:]\n",
    "y_train, y_test = y[:punto_limite], y[punto_limite:]"
   ]
  },
  {
   "cell_type": "code",
   "execution_count": null,
   "id": "09341ec5-a127-46ed-979f-86221d8cd439",
   "metadata": {},
   "outputs": [],
   "source": [
    "# Entrenar el modelo 2\n",
    "model_2 = LinearRegression()\n",
    "model_2.fit(X_train, y_train)\n",
    "\n",
    "# Predecir en el set de testeo\n",
    "y_pred = model_2.predict(X_test)\n"
   ]
  },
  {
   "cell_type": "code",
   "execution_count": null,
   "id": "849fd971-8f2a-41b1-8f45-b09677b1837f",
   "metadata": {},
   "outputs": [],
   "source": [
    "kpi(y_test, y_pred)"
   ]
  },
  {
   "cell_type": "code",
   "execution_count": null,
   "id": "ab0d7d81-0b3a-4560-96ad-c1bc193c3196",
   "metadata": {},
   "outputs": [],
   "source": [
    "importancia_atributos(model_2, X_test, y_test)"
   ]
  },
  {
   "cell_type": "markdown",
   "id": "346ece32-da41-427b-8527-909c01049782",
   "metadata": {},
   "source": [
    "# <b><font color=\"navy\">Modelo 3</span></font></b>"
   ]
  },
  {
   "cell_type": "markdown",
   "id": "58e4e49a-4a82-4dcb-9543-55a76da5071a",
   "metadata": {},
   "source": [
    "## 10. Mejorar atributo de demanda promedio incluyendo los festivos"
   ]
  },
  {
   "cell_type": "code",
   "execution_count": null,
   "id": "83b9ba8f-3c9d-440f-ba28-5d0d9dbfc5a8",
   "metadata": {},
   "outputs": [],
   "source": [
    "df_modelo_3 = df.copy()\n",
    "\n",
    "# Calcula el promedio movil simple de los ultimos 3 periodos estacionales incluyendo si es festivo\n",
    "df_modelo_3['PMS_DEMANDA_3'] = df_modelo_3.groupby(['COD_SKU', 'DESC_SKU', 'DIA_SEM', 'FESTIVO'])['DEMANDA'].transform(lambda x: x.rolling(window=3, \n",
    "                                                                                        min_periods=1).mean().shift(1))\n",
    "\n",
    "# Adiciona el Seno del dia de la semana\n",
    "df_modelo_3['SENO_DIA_SEM'] = np.sin(df_modelo_3['DIA_SEM'])\n"
   ]
  },
  {
   "cell_type": "code",
   "execution_count": null,
   "id": "6b10a196-de25-4317-be82-d33a866ada6a",
   "metadata": {},
   "outputs": [],
   "source": [
    "# Seleccionar Referencia\n",
    "df_modelo_3 = df_modelo_3[df_modelo_3['COD_SKU'] == SKU].copy()\n",
    "\n",
    "# Eliminar NaN\n",
    "df_modelo_3 = df_modelo_3.dropna(subset = ['DEMANDA_LAG_7','PMS_DEMANDA_3'])\n",
    "\n",
    "df_modelo_3"
   ]
  },
  {
   "cell_type": "code",
   "execution_count": null,
   "id": "78e193f2-3fb7-4b74-a457-b6b3915b56e3",
   "metadata": {},
   "outputs": [],
   "source": [
    "# Seleccionar variables atributos\n",
    "features = ['DIA_SEM', 'MES',\t'DIA',\t'SEMANA',\t'AÑO',\t'FESTIVO', 'DEMANDA_LAG_7',  'PMS_DEMANDA_3', \n",
    "            'SENO_DIA_SEM',\t]\n",
    "\n",
    "# Separar atributos en X y target en y\n",
    "X = df_modelo_3[features]\n",
    "y = df_modelo_3['DEMANDA']"
   ]
  },
  {
   "cell_type": "code",
   "execution_count": null,
   "id": "8ff2d341-0275-44b4-92a4-88bbff84b95d",
   "metadata": {},
   "outputs": [],
   "source": [
    "# Dividir el set de datos: 80% Entrenamiento - 20% Testeo\n",
    "punto_limite = int(len(df_modelo_3) * 0.8)\n",
    "\n",
    "# Separar Set de atributos y target por fecha limite\n",
    "X_train, X_test = X[:punto_limite], X[punto_limite:]\n",
    "y_train, y_test = y[:punto_limite], y[punto_limite:]"
   ]
  },
  {
   "cell_type": "code",
   "execution_count": null,
   "id": "2036db6b-a34b-47ba-9bcf-01806f828f59",
   "metadata": {},
   "outputs": [],
   "source": [
    "# Entrenar modelo 3\n",
    "model_3 = LinearRegression()\n",
    "model_3.fit(X_train, y_train)\n",
    "\n",
    "# Predict on the test set\n",
    "y_pred = model_3.predict(X_test)\n"
   ]
  },
  {
   "cell_type": "code",
   "execution_count": null,
   "id": "f48626c0-e7dc-456a-8404-baa76f2f81b8",
   "metadata": {},
   "outputs": [],
   "source": [
    "kpi(y_test, y_pred)"
   ]
  },
  {
   "cell_type": "code",
   "execution_count": null,
   "id": "1894ec2d-e211-4c38-bc28-ad3e16b61d61",
   "metadata": {},
   "outputs": [],
   "source": [
    "importancia_atributos(model_3, X_test, y_test)"
   ]
  },
  {
   "cell_type": "markdown",
   "id": "be598e10-407a-4fa7-9c2d-c6bb2cf7acf2",
   "metadata": {},
   "source": [
    "# <b><font color=\"navy\">Ejercicio</span></font></b>"
   ]
  },
  {
   "cell_type": "markdown",
   "id": "95003375-10c1-4495-83ef-6c90e6341e9d",
   "metadata": {},
   "source": [
    "Construya un modelo 4 cambiando algunos de los parametros e incluyendo nuevos atributos como:\n",
    "- Coseno dia_sem\n",
    "- Seno, Coseno dia del mes, mes, año\n",
    "- Lags de 14, 21 ...   días\n",
    "- Lag de 1 día\n",
    "- Otros que usted considere"
   ]
  },
  {
   "cell_type": "code",
   "execution_count": null,
   "id": "709f6e25-73c0-44bb-8d30-adae929ca263",
   "metadata": {},
   "outputs": [],
   "source": []
  }
 ],
 "metadata": {
  "kernelspec": {
   "display_name": "Python 3 (ipykernel)",
   "language": "python",
   "name": "python3"
  },
  "language_info": {
   "codemirror_mode": {
    "name": "ipython",
    "version": 3
   },
   "file_extension": ".py",
   "mimetype": "text/x-python",
   "name": "python",
   "nbconvert_exporter": "python",
   "pygments_lexer": "ipython3",
   "version": "3.11.9"
  }
 },
 "nbformat": 4,
 "nbformat_minor": 5
}
